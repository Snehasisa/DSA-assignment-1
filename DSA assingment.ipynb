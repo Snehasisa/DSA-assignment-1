{
 "cells": [
  {
   "cell_type": "code",
   "execution_count": 1,
   "id": "cebab1b7",
   "metadata": {},
   "outputs": [
    {
     "name": "stdout",
     "output_type": "stream",
     "text": [
      "[[24, 1], [23, 2], [22, 3], [21, 4], [20, 5], [19, 6], [18, 7], [17, 8], [16, 9], [15, 10], [14, 11], [13, 12], [12, 13], [11, 14], [10, 15], [9, 16], [8, 17], [7, 18], [6, 19], [5, 20], [4, 21], [3, 22], [2, 23], [1, 24]]\n",
      "None\n"
     ]
    }
   ],
   "source": [
    "# Q1 Write a program to find all pairs of an integer array whose sum is equal to a given number?\n",
    "\n",
    "class array:\n",
    "    def __init__(self,sum):\n",
    "        self.sum=sum\n",
    "        self.num=None\n",
    "        self.array=[]\n",
    "    \n",
    "    def pair(self):\n",
    "        for i in range(1,self.sum):\n",
    "            self.data=[]\n",
    "            self.num=self.sum-i\n",
    "            self.data.append(self.num)\n",
    "            self.data.append(i)\n",
    "            self.array.append(self.data)\n",
    "        print(self.array)\n",
    "            \n",
    "obj=array(25)\n",
    "print(obj.pair())"
   ]
  },
  {
   "cell_type": "code",
   "execution_count": 4,
   "id": "305dd442",
   "metadata": {},
   "outputs": [
    {
     "name": "stdout",
     "output_type": "stream",
     "text": [
      "1 2 3 4 5 6\n",
      "[1, 2, 3, 4, 5, 6]\n",
      "6\n",
      "[6, 5, 4, 3, 2, 1]\n"
     ]
    }
   ],
   "source": [
    "# Q2 Write a program to reverse an array in place? In place means you cannot create a new array. You have to update the original array.\n",
    "class array:\n",
    "    def __init__(self,arr,first,last):\n",
    "        self.array=arr\n",
    "        self.first=first\n",
    "        self.last=last\n",
    "    \n",
    "    def rev(self):\n",
    "        while self.first<self.last:\n",
    "            self.array[self.first],self.array[self.last-1]=self.array[self.last-1],self.array[self.first]\n",
    "            self.first+=1\n",
    "            self.last-=1\n",
    "        print(self.array)\n",
    "arr=list(map(int,input().split(' '))) \n",
    "print(arr)\n",
    "print(len(arr))\n",
    "obj=array(arr,0,len(arr))\n",
    "obj.rev()\n"
   ]
  },
  {
   "cell_type": "code",
   "execution_count": 1,
   "id": "1e4b2385",
   "metadata": {},
   "outputs": [
    {
     "name": "stdout",
     "output_type": "stream",
     "text": [
      "enter the str 1rakesh\n",
      "enter the str 2keshra\n",
      "['a', 'k', 'e', 's', 'h', 'r']\n",
      "rotate more\n",
      "['k', 'e', 's', 'h', 'r', 'a']\n",
      "Rotation of each other\n"
     ]
    }
   ],
   "source": [
    "# Q3 Write a program to check if two strings are a rotation of each other?\n",
    "\n",
    "class str_rot:\n",
    "    def __init__(self,str1,str2):\n",
    "        self.string1=str1\n",
    "        self.string2=str2\n",
    "        self.array1=[]\n",
    "        self.array2=[]\n",
    "        \n",
    "    def array_formation(self):\n",
    "        for i in self.string1:\n",
    "            self.array1.append(i)\n",
    "        for j in self.string2:\n",
    "            self.array2.append(j)\n",
    "    \n",
    "    def check(self):\n",
    "        l=len(self.string1)\n",
    "        if l==len(self.string2):\n",
    "            while l!=0:\n",
    "                temp=None\n",
    "                temp=self.array1[0]\n",
    "                for i in range(len(self.array1)-1):\n",
    "                    self.array1[i]=self.array1[i+1]\n",
    "                self.array1[len(self.array1)-1]=temp\n",
    "                print(self.array1)\n",
    "                if self.array1==self.array2:\n",
    "                    print('Rotation of each other')\n",
    "                    break\n",
    "                else:\n",
    "                    print('rotate more')\n",
    "                l-=1\n",
    "        else:\n",
    "            print('none rotable to each other')\n",
    "str1=input('enter the str 1')\n",
    "str2=input('enter the str 2')\n",
    "obj=str_rot(str1,str2)\n",
    "obj.array_formation()\n",
    "obj.check()"
   ]
  },
  {
   "cell_type": "code",
   "execution_count": 3,
   "id": "b0c65d4c",
   "metadata": {},
   "outputs": [
    {
     "name": "stdout",
     "output_type": "stream",
     "text": [
      "Enter the string :ftgvybhjionhbgvfrde\n",
      "ftgvybhjion"
     ]
    }
   ],
   "source": [
    "# Q4. Write a program to print the first non-repeated character from a string?\n",
    "\n",
    "class str_repeat:\n",
    "    def __init__(self):\n",
    "        self.string=None\n",
    "        self.array=[]\n",
    "        \n",
    "    def array_formation(self):\n",
    "        self.string=input('Enter the string :')\n",
    "        for i in self.string:\n",
    "            if i in self.array:\n",
    "                break\n",
    "            else:\n",
    "                self.array.append(i)\n",
    "    def string_is(self):\n",
    "        for i in self.array:\n",
    "            print(i,end='')\n",
    "obj=str_repeat()\n",
    "obj.array_formation()\n",
    "obj.string_is()"
   ]
  },
  {
   "cell_type": "code",
   "execution_count": 1,
   "id": "10cb9823",
   "metadata": {},
   "outputs": [
    {
     "name": "stdout",
     "output_type": "stream",
     "text": [
      "{{}}{}{}{}{()())][[[\n",
      "Parenthesis are not Balanced!\n"
     ]
    }
   ],
   "source": [
    "# Q8. Write a program to check if all the brackets are closed in a given code snippet.\n",
    "class Stack():\n",
    "    def __init__(self, size):\n",
    "        self.data = []\n",
    "        self.size = size\n",
    "        self.length = 0\n",
    "        self.top = None\n",
    "        \n",
    "    def push(self, item):\n",
    "        if self.length < self.size:\n",
    "            self.data.append(item)\n",
    "            self.length += 1\n",
    "            self.top = item\n",
    "        else:\n",
    "            print('STACK OVERFLOW!!')\n",
    "    \n",
    "    def pop(self):\n",
    "        if self.length == 0:\n",
    "            print('STACK UNDERFLOW!!')\n",
    "        else:\n",
    "            self.data.pop()\n",
    "            self.length -= 1\n",
    "            if self.length == 0:\n",
    "                self.top = None\n",
    "            else:\n",
    "                self.top = self.data[-1]\n",
    "    def peek(self):\n",
    "        return self.top\n",
    "    \n",
    "    def isEmpty(self):\n",
    "        return not bool(self.length)\n",
    "    \n",
    "    def length(self):\n",
    "        return self.length\n",
    "    \n",
    "    def display(self):\n",
    "        print('Printing items from top to bottom...')\n",
    "        for i in self.data[::-1]:\n",
    "            print(i)\n",
    "            \n",
    "stack_obj = Stack(20)\n",
    "expression = input()\n",
    "partner = {']':'[',')':'(','}':'{'}\n",
    "for char in expression:\n",
    "    if char in partner.values():\n",
    "        stack_obj.push(char)\n",
    "    else:\n",
    "        if stack_obj.length == 0:\n",
    "            print('Parenthesis are not Balanced!')\n",
    "            break\n",
    "        else:\n",
    "            if partner[char] == stack_obj.peek():\n",
    "                stack_obj.pop()\n",
    "            else:\n",
    "                print('Parenthesis are not Balanced!')\n",
    "                break\n",
    "else:\n",
    "    if stack_obj.length != 0:\n",
    "        print('Parenthesis are Balanced!')\n",
    "    else:\n",
    "        print('Parenthesis are not Balanced!')"
   ]
  },
  {
   "cell_type": "code",
   "execution_count": 3,
   "id": "1a573784",
   "metadata": {},
   "outputs": [
    {
     "name": "stdout",
     "output_type": "stream",
     "text": [
      "Original Stack \n",
      "1 2 3 4 \n",
      "Reversed Stack \n",
      "4 3 2 1 \n"
     ]
    }
   ],
   "source": [
    "# Q9. Write a program to reverse a stack.\n",
    "def insertAtBottom(stack, item):\n",
    "    if isEmpty(stack):\n",
    "        push(stack, item)\n",
    "    else:\n",
    "        temp = pop(stack)\n",
    "        insertAtBottom(stack, item)\n",
    "        push(stack, temp)\n",
    " \n",
    "def reverse(stack):\n",
    "    if not isEmpty(stack):\n",
    "        temp = pop(stack)\n",
    "        reverse(stack)\n",
    "        insertAtBottom(stack, temp)\n",
    "\n",
    "def createStack():\n",
    "    stack = []\n",
    "    return stack\n",
    "\n",
    "def isEmpty( stack ):\n",
    "    return len(stack) == 0\n",
    "\n",
    "def push( stack, item ):\n",
    "    stack.append( item )\n",
    " \n",
    "\n",
    "def pop( stack ):\n",
    "    if(isEmpty( stack )):\n",
    "        print(\"Stack Underflow \")\n",
    "        exit(1)\n",
    " \n",
    "    return stack.pop()\n",
    " \n",
    "def prints(stack):\n",
    "    for i in range(len(stack)-1, -1, -1):\n",
    "        print(stack[i], end = ' ')\n",
    "    print()\n",
    " \n",
    "\n",
    "stack = createStack()\n",
    "push( stack, str(4) )\n",
    "push( stack, str(3) )\n",
    "push( stack, str(2) )\n",
    "push( stack, str(1) )\n",
    "print(\"Original Stack \")\n",
    "prints(stack)\n",
    " \n",
    "reverse(stack)\n",
    " \n",
    "print(\"Reversed Stack \")\n",
    "prints(stack)"
   ]
  },
  {
   "cell_type": "code",
   "execution_count": 7,
   "id": "2fceb8c3",
   "metadata": {},
   "outputs": [
    {
     "name": "stdout",
     "output_type": "stream",
     "text": [
      "5\n",
      "the smallest num is : 5\n"
     ]
    }
   ],
   "source": [
    "# Q10. Write a program to find the smallest number using a stack.\n",
    "\n",
    "class Stack():\n",
    "    def __init__(self):\n",
    "        self.data = []\n",
    "        self.length = 0\n",
    "        self.top = None\n",
    "        self.stack=[]\n",
    "        \n",
    "    def array_data(self):\n",
    "        self.data=list(map(int,input().split(' ')))\n",
    "        while len(self.data)!=0:\n",
    "            m=self.data.pop()\n",
    "            if self.top==None:\n",
    "                self.stack.append(m)\n",
    "                self.top=m\n",
    "            else:\n",
    "                if self.top>m:\n",
    "                    self.stack.append(m)\n",
    "                    self.top=m\n",
    "                else:\n",
    "                    temp=self.top\n",
    "                    self.stack.pop()\n",
    "                    self.stack.append(m)\n",
    "                    self.stack.append(temp)\n",
    "                    self.top=temp\n",
    "        num=self.stack.pop()\n",
    "        print('the smallest num is :',num)\n",
    "obj=Stack()\n",
    "obj.array_data()"
   ]
  },
  {
   "cell_type": "code",
   "execution_count": null,
   "id": "611ab111",
   "metadata": {},
   "outputs": [],
   "source": []
  }
 ],
 "metadata": {
  "kernelspec": {
   "display_name": "Python 3 (ipykernel)",
   "language": "python",
   "name": "python3"
  },
  "language_info": {
   "codemirror_mode": {
    "name": "ipython",
    "version": 3
   },
   "file_extension": ".py",
   "mimetype": "text/x-python",
   "name": "python",
   "nbconvert_exporter": "python",
   "pygments_lexer": "ipython3",
   "version": "3.9.7"
  }
 },
 "nbformat": 4,
 "nbformat_minor": 5
}
